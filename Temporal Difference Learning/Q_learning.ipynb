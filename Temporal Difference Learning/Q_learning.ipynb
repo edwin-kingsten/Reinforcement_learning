{
  "nbformat": 4,
  "nbformat_minor": 0,
  "metadata": {
    "colab": {
      "name": "Q learning.ipynb",
      "provenance": [],
      "collapsed_sections": []
    },
    "kernelspec": {
      "name": "python3",
      "display_name": "Python 3"
    },
    "language_info": {
      "name": "python"
    }
  },
  "cells": [
    {
      "cell_type": "code",
      "metadata": {
        "id": "e0j3tk1YfguY"
      },
      "source": [
        "import numpy as np\n",
        "import matplotlib.pyplot as plt"
      ],
      "execution_count": null,
      "outputs": []
    },
    {
      "cell_type": "markdown",
      "metadata": {
        "id": "iw7uODhtfmqr"
      },
      "source": [
        "## Defining Grid World"
      ]
    },
    {
      "cell_type": "code",
      "metadata": {
        "id": "XjKC2GCFfrwI"
      },
      "source": [
        "class Grid():\n",
        "    def __init__(self , rows , cols , start):\n",
        "        self.rows = rows\n",
        "        self.cols = cols\n",
        "        self.start = start\n",
        "        self.i = start[0]\n",
        "        self.j = start[1]\n",
        "\n",
        "    def set(self, actions , rewards):\n",
        "        self.actions = actions\n",
        "        self.rewards = rewards\n",
        "\n",
        "    def reset(self):\n",
        "        self.i  , self.j = self.start\n",
        "\n",
        "    def set_state(self, s):\n",
        "        self.i = s[0]\n",
        "        self.j = s[1]\n",
        "\n",
        "    def is_terminal(self, s):\n",
        "        return s in self.rewards\n",
        "\n",
        "    def current_state(self):\n",
        "        return (self.i , self.j)\n",
        "\n",
        "    def all_states(self):\n",
        "        return set(self.actions.keys()) | set(self.rewards.keys())\n",
        "\n",
        "    def move(self , a):\n",
        "        if a in self.actions[(self.i , self.j)]:\n",
        "            if a == \"U\":\n",
        "                self.i -= 1\n",
        "\n",
        "            elif a == \"D\":\n",
        "                self.i += 1\n",
        "\n",
        "            elif a == \"R\":\n",
        "                self.j += 1\n",
        "\n",
        "            elif a == \"L\":\n",
        "                self.j -= 1\n",
        "        \n",
        "        return self.rewards.get((self.i , self.j) , 0)\n",
        "\n",
        "    def game_over(self):\n",
        "        return (self.i , self.j) in self.rewards"
      ],
      "execution_count": null,
      "outputs": []
    },
    {
      "cell_type": "code",
      "metadata": {
        "id": "VDNffxNufrsu"
      },
      "source": [
        "def initialize_grid():\n",
        "    rows , cols = 3 , 4\n",
        "    start = (2 , 0)\n",
        "    g = Grid(rows , cols , start)\n",
        "    \n",
        "    # reward for termination state\n",
        "    rewards = {(0, 3): 1 , (1 , 3) : -1}\n",
        "    \n",
        "    # possible actions can be performed for each state\n",
        "    actions = {\n",
        "              (0, 0):[\"D\" , \"R\"],\n",
        "              (0, 1):[\"R\"],\n",
        "              (0, 2):[\"R\"],\n",
        "              (1, 0):[\"U\" ,\"D\"],\n",
        "              (1, 2):[\"U\" ,\"D\" ,\"R\"],\n",
        "              (2, 0):[\"U\" , \"R\"],\n",
        "              (2, 1):[\"R\" , \"L\"],\n",
        "              (2, 2):[\"R\" , \"L\" ,\"U\"],\n",
        "              (2, 3):[\"L\" , \"U\"]\n",
        "    }\n",
        "\n",
        "    g.set(actions , rewards)\n",
        "\n",
        "    return g"
      ],
      "execution_count": null,
      "outputs": []
    },
    {
      "cell_type": "markdown",
      "metadata": {
        "id": "9kSefXqIfrqM"
      },
      "source": [
        "## Visualization Functions"
      ]
    },
    {
      "cell_type": "code",
      "metadata": {
        "id": "GfGJZxHyfrnr"
      },
      "source": [
        "def print_values(V, g):\n",
        "    print(\"Printing Values\")\n",
        "    for i in range(g.rows):\n",
        "        print(\"---------------------------\")\n",
        "        for j in range(g.cols):\n",
        "            v = V.get((i,j), 0)\n",
        "            if v >= 0:\n",
        "                print(\" %.2f|\" % v, end=\"\")\n",
        "            else:\n",
        "                print(\"%.2f|\" % v, end=\"\") # -ve sign takes up an extra space\n",
        "        print(\"\")\n",
        "\n",
        "\n",
        "def print_policy(P, g):\n",
        "    print(\"Printing Policy\")\n",
        "    for i in range(g.rows):\n",
        "        print(\"---------------------------\")\n",
        "        for j in range(g.cols):\n",
        "            a = P.get((i,j), ' ')\n",
        "            print(\"  %s  |\" % a, end=\"\") \n",
        "        print(\"\")"
      ],
      "execution_count": null,
      "outputs": []
    },
    {
      "cell_type": "code",
      "metadata": {
        "id": "Y8kdtIcWfrlL"
      },
      "source": [
        "## Define Epsilon Greedy random action\n",
        "def random_action(a , eps = 0.3):\n",
        "    if np.random.random() < (1 - eps) :\n",
        "        return a\n",
        "    else:\n",
        "        # print(\"random choice\")\n",
        "        return np.random.choice(ACTION_SPACE)"
      ],
      "execution_count": null,
      "outputs": []
    },
    {
      "cell_type": "code",
      "metadata": {
        "id": "BAnwtIMsfrgh"
      },
      "source": [
        "# function for finding maximum value and its corresponding key in dictionary\n",
        "def max_dict(d):\n",
        "    # find max val\n",
        "    max_val = max(d.values())\n",
        "\n",
        "    # find keys corresponding to max val\n",
        "    for key , val in d.items():\n",
        "        # print(key)\n",
        "        if val == max_val:\n",
        "            max_key = key\n",
        "            break\n",
        "\n",
        "    return max_key , max_val"
      ],
      "execution_count": null,
      "outputs": []
    },
    {
      "cell_type": "markdown",
      "metadata": {
        "id": "7mhHeHBFfreF"
      },
      "source": [
        "## Initialize Grid"
      ]
    },
    {
      "cell_type": "code",
      "metadata": {
        "id": "2QHahwPQfrbg"
      },
      "source": [
        "grid = initialize_grid()\n",
        "ACTION_SPACE = (\"U\" , \"D\" , \"R\" , \"L\")\n",
        "gamma = 0.9"
      ],
      "execution_count": null,
      "outputs": []
    },
    {
      "cell_type": "markdown",
      "metadata": {
        "id": "L9T2W1FpfrZG"
      },
      "source": [
        "## Initialize Policy"
      ]
    },
    {
      "cell_type": "code",
      "metadata": {
        "id": "DVl5aQxFgHpi"
      },
      "source": [
        "Policy = {}\n",
        "for i in grid.actions.keys():\n",
        "    Policy[i] = np.random.choice(ACTION_SPACE)"
      ],
      "execution_count": null,
      "outputs": []
    },
    {
      "cell_type": "markdown",
      "metadata": {
        "id": "eAG-cQs_gHmB"
      },
      "source": [
        "## Initialize Q values"
      ]
    },
    {
      "cell_type": "code",
      "metadata": {
        "id": "Pd1p6dexgHjc"
      },
      "source": [
        "Q = {}\n",
        "sample_counts = {}\n",
        "\n",
        "for s in grid.all_states():\n",
        "        Q[s] = {}\n",
        "        sample_counts[s] = {}\n",
        "        for a in ACTION_SPACE:\n",
        "            Q[s][a] = 0.0\n",
        "            sample_counts[s][a] = 0.0"
      ],
      "execution_count": null,
      "outputs": []
    },
    {
      "cell_type": "markdown",
      "metadata": {
        "id": "VRKG0-ycgHg_"
      },
      "source": [
        "## Both policy improvement and Policy evaluation at the same step"
      ]
    },
    {
      "cell_type": "code",
      "metadata": {
        "colab": {
          "base_uri": "https://localhost:8080/",
          "height": 1000
        },
        "id": "Ji4I7DYQgHeh",
        "outputId": "a8821c52-3e48-47bd-cbeb-23da703c2ca2"
      },
      "source": [
        "delta = []\n",
        "gamma = 0.9\n",
        "biggest_change = 0\n",
        "alpha = 0.3\n",
        "eps = 1\n",
        "epochs = 10000\n",
        "\n",
        "for it in range(epochs):\n",
        "\n",
        "    if it%1000 == 0:\n",
        "        print(\"iteration \" , it)\n",
        "        for sv in grid.actions.keys():\n",
        "            Policy[sv] , _ = max_dict(Q[sv])\n",
        "        print_policy(Policy , grid)\n",
        "    \n",
        "    # play game\n",
        "    grid.reset()\n",
        "    s = grid.current_state()\n",
        "   \n",
        "    while not grid.game_over():\n",
        "        # choosing action randomly\n",
        "        # epsilon greedy can also be used here\n",
        "        a = np.random.choice(ACTION_SPACE)\n",
        "\n",
        "        # perform action and get next state + reward\n",
        "        r = grid.move(a)\n",
        "        \n",
        "        s2 = grid.current_state()\n",
        "        a2 = max_dict(Q[s2])[0]\n",
        "\n",
        "        #update Q\n",
        "        old_q = Q[s][a]\n",
        "        sample_counts[s][a] += 1\n",
        "        Q[s][a] = Q[s][a] + (r + gamma*Q[s2][a2] - Q[s][a])/sample_counts[s][a]  # running Q mean\n",
        "        biggest_change = max(biggest_change , np.abs(old_q - Q[s][a]))\n",
        "\n",
        "        s = s2\n",
        "        a = a2\n",
        "\n",
        "    delta.append(biggest_change)\n",
        "\n",
        "plt.plot(delta)\n",
        "\n",
        "V = {}\n",
        "for sv in grid.actions.keys():\n",
        "    Policy[sv] , V[sv] = max_dict(Q[sv])\n",
        "\n",
        "print_policy(Policy , grid)\n",
        "print_values(V ,grid)"
      ],
      "execution_count": null,
      "outputs": [
        {
          "output_type": "stream",
          "name": "stdout",
          "text": [
            "iteration  0\n",
            "Printing Policy\n",
            "---------------------------\n",
            "  U  |  U  |  U  |     |\n",
            "---------------------------\n",
            "  U  |     |  U  |     |\n",
            "---------------------------\n",
            "  U  |  U  |  U  |  U  |\n",
            "iteration  1000\n",
            "Printing Policy\n",
            "---------------------------\n",
            "  R  |  R  |  R  |     |\n",
            "---------------------------\n",
            "  U  |     |  U  |     |\n",
            "---------------------------\n",
            "  U  |  R  |  U  |  L  |\n",
            "iteration  2000\n",
            "Printing Policy\n",
            "---------------------------\n",
            "  R  |  R  |  R  |     |\n",
            "---------------------------\n",
            "  U  |     |  U  |     |\n",
            "---------------------------\n",
            "  U  |  R  |  U  |  L  |\n",
            "iteration  3000\n",
            "Printing Policy\n",
            "---------------------------\n",
            "  R  |  R  |  R  |     |\n",
            "---------------------------\n",
            "  U  |     |  U  |     |\n",
            "---------------------------\n",
            "  U  |  R  |  U  |  L  |\n",
            "iteration  4000\n",
            "Printing Policy\n",
            "---------------------------\n",
            "  R  |  R  |  R  |     |\n",
            "---------------------------\n",
            "  U  |     |  U  |     |\n",
            "---------------------------\n",
            "  U  |  R  |  U  |  L  |\n",
            "iteration  5000\n",
            "Printing Policy\n",
            "---------------------------\n",
            "  R  |  R  |  R  |     |\n",
            "---------------------------\n",
            "  U  |     |  U  |     |\n",
            "---------------------------\n",
            "  U  |  R  |  U  |  L  |\n",
            "iteration  6000\n",
            "Printing Policy\n",
            "---------------------------\n",
            "  R  |  R  |  R  |     |\n",
            "---------------------------\n",
            "  U  |     |  U  |     |\n",
            "---------------------------\n",
            "  U  |  R  |  U  |  L  |\n",
            "iteration  7000\n",
            "Printing Policy\n",
            "---------------------------\n",
            "  R  |  R  |  R  |     |\n",
            "---------------------------\n",
            "  U  |     |  U  |     |\n",
            "---------------------------\n",
            "  U  |  R  |  U  |  L  |\n",
            "iteration  8000\n",
            "Printing Policy\n",
            "---------------------------\n",
            "  R  |  R  |  R  |     |\n",
            "---------------------------\n",
            "  U  |     |  U  |     |\n",
            "---------------------------\n",
            "  U  |  R  |  U  |  L  |\n",
            "iteration  9000\n",
            "Printing Policy\n",
            "---------------------------\n",
            "  R  |  R  |  R  |     |\n",
            "---------------------------\n",
            "  U  |     |  U  |     |\n",
            "---------------------------\n",
            "  U  |  R  |  U  |  L  |\n",
            "Printing Policy\n",
            "---------------------------\n",
            "  R  |  R  |  R  |     |\n",
            "---------------------------\n",
            "  U  |     |  U  |     |\n",
            "---------------------------\n",
            "  U  |  R  |  U  |  L  |\n",
            "Printing Values\n",
            "---------------------------\n",
            " 0.81| 0.90| 1.00| 0.00|\n",
            "---------------------------\n",
            " 0.72| 0.00| 0.90| 0.00|\n",
            "---------------------------\n",
            " 0.63| 0.72| 0.81| 0.72|\n"
          ]
        },
        {
          "output_type": "display_data",
          "data": {
            "image/png": "[encoded data removed]",
            "text/plain": [
              "<Figure size 432x288 with 1 Axes>"
            ]
          },
          "metadata": {
            "needs_background": "light"
          }
        }
      ]
    }
  ]
}