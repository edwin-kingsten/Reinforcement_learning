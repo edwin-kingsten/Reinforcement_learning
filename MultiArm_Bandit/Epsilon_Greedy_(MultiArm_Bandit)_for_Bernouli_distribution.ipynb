{
  "nbformat": 4,
  "nbformat_minor": 0,
  "metadata": {
    "colab": {
      "name": "Epsilon Greedy (MultiArm Bandit) for Bernouli distribution.ipynb",
      "provenance": []
    },
    "kernelspec": {
      "name": "python3",
      "display_name": "Python 3"
    },
    "language_info": {
      "name": "python"
    }
  },
  "cells": [
    {
      "cell_type": "code",
      "metadata": {
        "id": "F4GZW3lmPHur"
      },
      "source": [
        "import numpy as np\n",
        "import matplotlib.pyplot as plt"
      ],
      "execution_count": 7,
      "outputs": []
    },
    {
      "cell_type": "code",
      "metadata": {
        "id": "UAdY0Nm-QQVh"
      },
      "source": [
        "class BanditArm():\n",
        "    def __init__(self , p):\n",
        "        self.p = p\n",
        "        self.p_estimate = 0\n",
        "        self.N = 0\n",
        "    \n",
        "    # randomly generating 1 with probability p\n",
        "    def pull(self):\n",
        "        return np.random.random() < self.p\n",
        "    \n",
        "    # updating the running mean\n",
        "    # Xn = ((N - 1)Xn-1 + X)/N\n",
        "    # where Xn-1 - previous mean , Xn - current mean , X - current data\n",
        "    def update(self , x):\n",
        "        self.N += 1\n",
        "        self.p_estimate = ((self.N - 1)*self.p_estimate + x)/self.N"
      ],
      "execution_count": 41,
      "outputs": []
    },
    {
      "cell_type": "code",
      "metadata": {
        "id": "WUCEfPWuQmxW"
      },
      "source": [
        "NUM_TRAILS = 10000\n",
        "Bandit_probabilities = [0.2 , 0.35 , 0.6]\n",
        "EPS = 0.1"
      ],
      "execution_count": 51,
      "outputs": []
    },
    {
      "cell_type": "code",
      "metadata": {
        "colab": {
          "base_uri": "https://localhost:8080/",
          "height": 420
        },
        "id": "pVYGoudXS1do",
        "outputId": "e696a69d-719b-490f-e66e-c43d3a005bbb"
      },
      "source": [
        "rewards = []\n",
        "Num_explored = 0\n",
        "Num_exploited = 0\n",
        "num_optimal = 0\n",
        "\n",
        "optimal_j = np.argmax(Bandit_probabilities)\n",
        "\n",
        "bandits = [BanditArm(b) for b in Bandit_probabilities]\n",
        "\n",
        "for i in range(NUM_TRAILS):\n",
        "    \n",
        "    if np.random.random() < EPS:\n",
        "        j = np.random.randint(len(bandits))\n",
        "        Num_explored +=1\n",
        "\n",
        "    else:\n",
        "        j = np.argmax([b.p_estimate for b in bandits])\n",
        "        Num_exploited += 1\n",
        "    \n",
        "    if optimal_j == j:\n",
        "        num_optimal += 1\n",
        "\n",
        "    x = bandits[j].pull()\n",
        "    rewards.append(x)\n",
        "    bandits[j].update(x)\n",
        "\n",
        "for b in bandits:\n",
        "    print(\"Mean Estimate \", b.p_estimate)\n",
        "\n",
        "print(\"Total reward Earned \" , sum(rewards))\n",
        "print(\"Overall win rate \" , sum(rewards)/len(rewards))\n",
        "print(\"Number of times optimal bandit Selected \", num_optimal)\n",
        "print(\"Number of times explored \" , Num_explored)\n",
        "print(\"Number of times exploited \" , Num_exploited)\n",
        "\n",
        "#plot the results\n",
        "cumsum = np.cumsum(rewards)\n",
        "winrates = cumsum / (np.arange(NUM_TRAILS) + 1)\n",
        "plt.plot(winrates)\n",
        "plt.plot(np.ones(NUM_TRAILS)*np.max(Bandit_probabilities))\n",
        "plt.xlabel(\"Iterations\")\n",
        "plt.ylabel(\"Winrates\")\n",
        "plt.show()"
      ],
      "execution_count": 56,
      "outputs": [
        {
          "output_type": "stream",
          "name": "stdout",
          "text": [
            "Mean Estimate  0.17771084337349408\n",
            "Mean Estimate  0.34405144694533774\n",
            "Mean Estimate  0.6068184247087743\n",
            "Total reward Earned  5844\n",
            "Overall win rate  0.5844\n",
            "Number of times optimal bandit Selected  9357\n",
            "Number of times explored  978\n",
            "Number of times exploited  9022\n"
          ]
        },
        {
          "output_type": "display_data",
          "data": {
            "image/png": "[encoded data removed]",
            "text/plain": [
              "<Figure size 432x288 with 1 Axes>"
            ]
          },
          "metadata": {
            "needs_background": "light"
          }
        }
      ]
    },
    {
      "cell_type": "markdown",
      "metadata": {
        "id": "eUWpHtMeS3v3"
      },
      "source": [
        "##Conclusion:\n",
        "###The Mean Estimates of each bandits are close to their true mean\n",
        "###From the graph, we can see that winrates converges to the maximum winrate after certain period."
      ]
    }
  ]
}