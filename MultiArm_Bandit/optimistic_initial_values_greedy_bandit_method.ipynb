{
  "nbformat": 4,
  "nbformat_minor": 0,
  "metadata": {
    "colab": {
      "name": "optimistic initial values greedy bandit method.ipynb",
      "provenance": []
    },
    "kernelspec": {
      "name": "python3",
      "display_name": "Python 3"
    },
    "language_info": {
      "name": "python"
    }
  },
  "cells": [
    {
      "cell_type": "code",
      "metadata": {
        "id": "bo5mk1UspH-V"
      },
      "source": [
        "import numpy as np\n",
        "import matplotlib.pyplot as plt"
      ],
      "execution_count": null,
      "outputs": []
    },
    {
      "cell_type": "code",
      "metadata": {
        "id": "_4dEyV09pNaN"
      },
      "source": [
        "# Initialize the p_estimate with high values instead of 0\n",
        "class BanditArm():\n",
        "    def __init__(self , p):\n",
        "        self.p = p\n",
        "        self.p_estimate = 5\n",
        "        self.N = 1\n",
        "    \n",
        "    # randomly generating 1 with probability p\n",
        "    def pull(self):\n",
        "        return np.random.random() < self.p\n",
        "    \n",
        "    # updating the running mean\n",
        "    # Xn = ((N - 1)Xn-1 + X)/N\n",
        "    # where Xn-1 - previous mean , Xn - current mean , X - current data\n",
        "    def update(self , x):\n",
        "        self.N += 1\n",
        "        self.p_estimate = ((self.N - 1)*self.p_estimate + x)/self.N"
      ],
      "execution_count": null,
      "outputs": []
    },
    {
      "cell_type": "code",
      "metadata": {
        "id": "vWnk2waepsRz"
      },
      "source": [
        "NUM_TRAILS = 10000\n",
        "Bandit_probabilities = [0.2 , 0.35 , 0.6]"
      ],
      "execution_count": null,
      "outputs": []
    },
    {
      "cell_type": "code",
      "metadata": {
        "colab": {
          "base_uri": "https://localhost:8080/",
          "height": 402
        },
        "id": "umDFoszOp-2g",
        "outputId": "c596ad3a-77a0-4cb6-e20a-df88b2d9f27f"
      },
      "source": [
        "rewards = []\n",
        "num_optimal = 0\n",
        "\n",
        "optimal_j = np.argmax(Bandit_probabilities)\n",
        "\n",
        "bandits = [BanditArm(b) for b in Bandit_probabilities]\n",
        "\n",
        "for i in range(NUM_TRAILS):\n",
        "    j = np.argmax([b.p_estimate for b in bandits])\n",
        "    \n",
        "    if optimal_j == j:\n",
        "        num_optimal += 1\n",
        "\n",
        "    x = bandits[j].pull()\n",
        "    rewards.append(x)\n",
        "    bandits[j].update(x)\n",
        "\n",
        "for b in bandits:\n",
        "    print(\"Mean Estimate \", b.p_estimate)\n",
        "\n",
        "print(\"Total reward Earned \" , sum(rewards))\n",
        "print(\"Overall win rate \" , sum(rewards)/len(rewards))\n",
        "print(\"Number of times optimal bandit Selected \", num_optimal)\n",
        "print(\"Number of times each Bandit selected\" , [b.N for b in bandits])\n",
        "\n",
        "#plot the results\n",
        "cumsum = np.cumsum(rewards)\n",
        "winrates = cumsum / (np.arange(NUM_TRAILS) + 1)\n",
        "plt.plot(winrates)\n",
        "plt.plot(np.ones(NUM_TRAILS)*np.max(Bandit_probabilities))\n",
        "plt.xlabel(\"Iterations\")\n",
        "plt.ylabel(\"Win rates\")\n",
        "plt.show()"
      ],
      "execution_count": null,
      "outputs": [
        {
          "output_type": "stream",
          "name": "stdout",
          "text": [
            "Mean Estimate  0.5555555555555556\n",
            "Mean Estimate  0.5588235294117647\n",
            "Mean Estimate  0.6051204819277106\n",
            "Total reward Earned  6036\n",
            "Overall win rate  0.6036\n",
            "Number of times optimal bandit Selected  9959\n",
            "Number of times each Bandit selected [9, 34, 9960]\n"
          ]
        },
        {
          "output_type": "display_data",
          "data": {
            "image/png": "[encoded data removed]",
            "text/plain": [
              "<Figure size 432x288 with 1 Axes>"
            ]
          },
          "metadata": {
            "needs_background": "light"
          }
        }
      ]
    },
    {
      "cell_type": "markdown",
      "metadata": {
        "id": "wqdQEzlPqv6i"
      },
      "source": [
        "#conclusion:\n",
        "##From the graph , we can see that overall winrate is very closer to the true win rate\n",
        "##The estimated mean of sub-optimal bandits are not closer to the true mean , only the optimal bandit mean is closer to true mean.\n",
        "##we can see that optimal bandit is selected 99% of the time."
      ]
    }
  ]
}