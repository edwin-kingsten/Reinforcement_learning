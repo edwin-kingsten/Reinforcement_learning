{
  "nbformat": 4,
  "nbformat_minor": 0,
  "metadata": {
    "colab": {
      "name": "Monte Carlo No Explore start (eps greedy).ipynb",
      "provenance": [],
      "collapsed_sections": []
    },
    "kernelspec": {
      "name": "python3",
      "display_name": "Python 3"
    },
    "language_info": {
      "name": "python"
    }
  },
  "cells": [
    {
      "cell_type": "code",
      "metadata": {
        "id": "AxW-Bi1-f3L6"
      },
      "source": [
        "import numpy as np\n",
        "import matplotlib.pyplot as plt"
      ],
      "execution_count": null,
      "outputs": []
    },
    {
      "cell_type": "markdown",
      "metadata": {
        "id": "VfP4ZQQFgD-O"
      },
      "source": [
        "## Defining Grid World\n",
        "\n"
      ]
    },
    {
      "cell_type": "code",
      "metadata": {
        "id": "g4Ry-QJvgP2H"
      },
      "source": [
        "class Grid():\n",
        "    def __init__(self , rows , cols , start):\n",
        "        self.rows = rows\n",
        "        self.cols = cols\n",
        "        self.start = start\n",
        "        self.i = start[0]\n",
        "        self.j = start[1]\n",
        "\n",
        "    def set(self, actions , rewards):\n",
        "        self.actions = actions\n",
        "        self.rewards = rewards\n",
        "\n",
        "    def reset(self):\n",
        "        self.i  , self.j = self.start\n",
        "\n",
        "    def set_state(self, s):\n",
        "        self.i = s[0]\n",
        "        self.j = s[1]\n",
        "\n",
        "    def is_terminal(self, s):\n",
        "        return s in self.rewards\n",
        "\n",
        "    def current_state(self):\n",
        "        return (self.i , self.j)\n",
        "\n",
        "    def all_states(self):\n",
        "        return set(self.actions.keys()) | set(self.rewards.keys())\n",
        "\n",
        "    def move(self , a):\n",
        "        if a in self.actions[(self.i , self.j)]:\n",
        "            if a == \"U\":\n",
        "                self.i -= 1\n",
        "\n",
        "            elif a == \"D\":\n",
        "                self.i += 1\n",
        "\n",
        "            elif a == \"R\":\n",
        "                self.j += 1\n",
        "\n",
        "            elif a == \"L\":\n",
        "                self.j -= 1\n",
        "        \n",
        "        return self.rewards.get((self.i , self.j) , 0)\n",
        "\n",
        "    def game_over(self):\n",
        "        return (self.i , self.j) in self.rewards"
      ],
      "execution_count": null,
      "outputs": []
    },
    {
      "cell_type": "code",
      "metadata": {
        "id": "9jbv9QzugSpD"
      },
      "source": [
        "def initialize_grid():\n",
        "    rows , cols = 3 , 4\n",
        "    start = (2 , 0)\n",
        "    g = Grid(rows , cols , start)\n",
        "    \n",
        "    # reward for termination state\n",
        "    rewards = {(0, 3): 1 , (1 , 3) : -1}\n",
        "    \n",
        "    # possible actions can be performed for each state\n",
        "    actions = {\n",
        "              (0, 0):[\"D\" , \"R\"],\n",
        "              (0, 1):[\"R\"],\n",
        "              (0, 2):[\"R\"],\n",
        "              (1, 0):[\"U\" ,\"D\"],\n",
        "              (1, 2):[\"U\" ,\"D\" ,\"R\"],\n",
        "              (2, 0):[\"U\" , \"R\"],\n",
        "              (2, 1):[\"R\" , \"L\"],\n",
        "              (2, 2):[\"R\" , \"L\" ,\"U\"],\n",
        "              (2, 3):[\"L\" , \"U\"]\n",
        "    }\n",
        "\n",
        "    g.set(actions , rewards)\n",
        "\n",
        "    return g"
      ],
      "execution_count": null,
      "outputs": []
    },
    {
      "cell_type": "markdown",
      "metadata": {
        "id": "of87R6kMgVCM"
      },
      "source": [
        "## Visualization Functions"
      ]
    },
    {
      "cell_type": "code",
      "metadata": {
        "id": "6iwwR3S7gZFn"
      },
      "source": [
        "def print_values(V, g):\n",
        "    print(\"Printing Values\")\n",
        "    for i in range(g.rows):\n",
        "        print(\"---------------------------\")\n",
        "        for j in range(g.cols):\n",
        "            v = V.get((i,j), 0)\n",
        "            if v >= 0:\n",
        "                print(\" %.2f|\" % v, end=\"\")\n",
        "            else:\n",
        "                print(\"%.2f|\" % v, end=\"\") # -ve sign takes up an extra space\n",
        "        print(\"\")\n",
        "\n",
        "\n",
        "def print_policy(P, g):\n",
        "    print(\"Printing Policy\")\n",
        "    for i in range(g.rows):\n",
        "        print(\"---------------------------\")\n",
        "        for j in range(g.cols):\n",
        "            a = P.get((i,j), ' ')\n",
        "            print(\"  %s  |\" % a, end=\"\") \n",
        "        print(\"\")"
      ],
      "execution_count": null,
      "outputs": []
    },
    {
      "cell_type": "code",
      "metadata": {
        "id": "ZIofnPPogz6A"
      },
      "source": [
        "## Define Epsilon Greedy random action\n",
        "def random_action(a , eps = 0.1):\n",
        "    if np.random.random() < (1 - eps) :\n",
        "        return a\n",
        "    else:\n",
        "        return np.random.choice(ACTION_SPACE)"
      ],
      "execution_count": null,
      "outputs": []
    },
    {
      "cell_type": "markdown",
      "metadata": {
        "id": "mlCNaSengZCO"
      },
      "source": [
        "## Defining Play Game function"
      ]
    },
    {
      "cell_type": "code",
      "metadata": {
        "id": "9R_WOxhxgY_j"
      },
      "source": [
        "def play_game(grid , Policy):\n",
        "    # choose a random action for random state with probability eps\n",
        "    # this is called the \"exploring starts\" method\n",
        "    grid.reset()\n",
        "    s = grid.current_state()\n",
        "    a = random_action(Policy[s])\n",
        "    \n",
        "    states = [s]\n",
        "    actions = [a]\n",
        "    rewards = [0]\n",
        "\n",
        "    for _ in range(20): #sometimes states can form a loop , so we have to limit the number of steps\n",
        "        old_s  = s\n",
        "        r = grid.move(a)\n",
        "        s = grid.current_state()\n",
        "\n",
        "        states.append(s)\n",
        "        rewards.append(r)\n",
        "        \n",
        "        if grid.game_over():\n",
        "            break\n",
        "        \n",
        "        # # # if the next state is wall , then move is going to return the same state\n",
        "        # elif old_s == s:\n",
        "        #     # rewards[-1] = -0.4\n",
        "        #     # # a = random_action(Policy[s])\n",
        "        #     # # actions.append(a)\n",
        "        #     break\n",
        "\n",
        "        else:\n",
        "            a = random_action(Policy[s])\n",
        "            actions.append(a)\n",
        "        # print(s , a)\n",
        "    \n",
        "    # we want to return:\n",
        "    # states  = [s(0), s(1), ..., s(T-1), s(T)]\n",
        "    # actions = [a(0), a(1), ..., a(T-1),     ]\n",
        "    # rewards = [   0, R(1), ..., R(T-1), R(T)]\n",
        "    # return (states , actions , rewards)\n",
        "    return states , actions , rewards"
      ],
      "execution_count": null,
      "outputs": []
    },
    {
      "cell_type": "code",
      "metadata": {
        "id": "3dwR0yI5gY6F"
      },
      "source": [
        "# function for finding maximum value and its corresponding key in dictionary\n",
        "def max_dict(d):\n",
        "    # find max val\n",
        "    max_val = max(d.values())\n",
        "\n",
        "    # find keys corresponding to max val\n",
        "    for key , val in d.items():\n",
        "        if val == max_val:\n",
        "            max_key = key\n",
        "            break\n",
        "\n",
        "    return max_key , max_val"
      ],
      "execution_count": null,
      "outputs": []
    },
    {
      "cell_type": "markdown",
      "metadata": {
        "id": "3-dSnqmZicQz"
      },
      "source": [
        "## Initialize Grid"
      ]
    },
    {
      "cell_type": "code",
      "metadata": {
        "id": "iFv8PXFJieux"
      },
      "source": [
        "grid = initialize_grid()\n",
        "ACTION_SPACE = (\"U\" , \"D\" , \"R\" , \"L\")\n",
        "gamma = 0.9"
      ],
      "execution_count": null,
      "outputs": []
    },
    {
      "cell_type": "markdown",
      "metadata": {
        "id": "pzifpaymgY3N"
      },
      "source": [
        "## Initialize Policy"
      ]
    },
    {
      "cell_type": "code",
      "metadata": {
        "id": "hmW8EPlHgYzp"
      },
      "source": [
        "Policy = {}\n",
        "for i in grid.actions.keys():\n",
        "    Policy[i] = np.random.choice(ACTION_SPACE)"
      ],
      "execution_count": null,
      "outputs": []
    },
    {
      "cell_type": "markdown",
      "metadata": {
        "id": "UUwBjOBugYxO"
      },
      "source": [
        "## Initialize Q values"
      ]
    },
    {
      "cell_type": "code",
      "metadata": {
        "id": "yORkY_f7gYuy"
      },
      "source": [
        "Q = {}\n",
        "sample_counts = {}\n",
        "\n",
        "for s in grid.actions.keys():\n",
        "        Q[s] = {}\n",
        "        sample_counts[s] = {}\n",
        "        for a in ACTION_SPACE:\n",
        "            Q[s][a] = 0.0\n",
        "            sample_counts[s][a] = 0.0"
      ],
      "execution_count": null,
      "outputs": []
    },
    {
      "cell_type": "markdown",
      "metadata": {
        "id": "K8we5DDcjbtd"
      },
      "source": [
        "## Monte Carlo Policy Evaluation and Policy Improvement"
      ]
    },
    {
      "cell_type": "code",
      "metadata": {
        "colab": {
          "base_uri": "https://localhost:8080/",
          "height": 1000
        },
        "id": "cddEhnyKj7Rb",
        "outputId": "93eb8eb7-d1a5-4c42-b259-e2e288a62247"
      },
      "source": [
        "delta = []\n",
        "gamma = 0.9\n",
        "biggest_change = 0\n",
        "\n",
        "for it in range(10000):\n",
        "    if it%1000 == 0:\n",
        "        print(\"iteration \" , it)\n",
        "        print_policy(Policy , grid)\n",
        "\n",
        "    states , actions , rewards = play_game(grid , Policy)\n",
        "    state_actions = list(zip(states , actions))\n",
        "    \n",
        "    G = 0\n",
        "    T = len(states)\n",
        "    for t in range(T-2 , -1 , -1): # going in reverse direction\n",
        "        a = actions[t]\n",
        "        s = states[t]\n",
        "        \n",
        "        G = rewards[t+1] + gamma*G\n",
        "\n",
        "        if (s , a) not in state_actions[:t]:\n",
        "            old_q = Q[s][a]\n",
        "            sample_counts[s][a] += 1\n",
        "            N = sample_counts[s][a]\n",
        "            Q[s][a] =  ((N - 1)*old_q + G)/N # running mean\n",
        "\n",
        "            Policy[s] = max_dict(Q[s])[0]\n",
        "            biggest_change = max(biggest_change , np.abs(old_q - Q[s][a]))      \n",
        "\n",
        "    delta.append(biggest_change)\n",
        "\n",
        "plt.plot(delta)\n",
        "plt.show()\n",
        "\n",
        "print(\"final policy:\")\n",
        "print_policy(Policy, grid)\n",
        "\n",
        "# find V\n",
        "V = {}\n",
        "for s, Qs in Q.items():\n",
        "    V[s] = max_dict(Q[s])[1]\n",
        "\n",
        "print(\"final values:\")\n",
        "print_values(V, grid)"
      ],
      "execution_count": null,
      "outputs": [
        {
          "output_type": "stream",
          "name": "stdout",
          "text": [
            "iteration  0\n",
            "Printing Policy\n",
            "---------------------------\n",
            "  R  |  R  |  R  |     |\n",
            "---------------------------\n",
            "  U  |     |  U  |     |\n",
            "---------------------------\n",
            "  U  |  R  |  U  |  L  |\n",
            "iteration  1000\n",
            "Printing Policy\n",
            "---------------------------\n",
            "  R  |  R  |  R  |     |\n",
            "---------------------------\n",
            "  U  |     |  U  |     |\n",
            "---------------------------\n",
            "  U  |  R  |  U  |  L  |\n",
            "iteration  2000\n",
            "Printing Policy\n",
            "---------------------------\n",
            "  R  |  R  |  R  |     |\n",
            "---------------------------\n",
            "  U  |     |  U  |     |\n",
            "---------------------------\n",
            "  U  |  R  |  U  |  L  |\n",
            "iteration  3000\n",
            "Printing Policy\n",
            "---------------------------\n",
            "  R  |  R  |  R  |     |\n",
            "---------------------------\n",
            "  U  |     |  U  |     |\n",
            "---------------------------\n",
            "  U  |  R  |  U  |  L  |\n",
            "iteration  4000\n",
            "Printing Policy\n",
            "---------------------------\n",
            "  R  |  R  |  R  |     |\n",
            "---------------------------\n",
            "  U  |     |  U  |     |\n",
            "---------------------------\n",
            "  U  |  R  |  U  |  L  |\n",
            "iteration  5000\n",
            "Printing Policy\n",
            "---------------------------\n",
            "  R  |  R  |  R  |     |\n",
            "---------------------------\n",
            "  U  |     |  U  |     |\n",
            "---------------------------\n",
            "  U  |  R  |  U  |  L  |\n",
            "iteration  6000\n",
            "Printing Policy\n",
            "---------------------------\n",
            "  R  |  R  |  R  |     |\n",
            "---------------------------\n",
            "  U  |     |  U  |     |\n",
            "---------------------------\n",
            "  U  |  R  |  U  |  L  |\n",
            "iteration  7000\n",
            "Printing Policy\n",
            "---------------------------\n",
            "  R  |  R  |  R  |     |\n",
            "---------------------------\n",
            "  U  |     |  U  |     |\n",
            "---------------------------\n",
            "  U  |  R  |  U  |  L  |\n",
            "iteration  8000\n",
            "Printing Policy\n",
            "---------------------------\n",
            "  R  |  R  |  R  |     |\n",
            "---------------------------\n",
            "  U  |     |  U  |     |\n",
            "---------------------------\n",
            "  U  |  R  |  U  |  L  |\n",
            "iteration  9000\n",
            "Printing Policy\n",
            "---------------------------\n",
            "  R  |  R  |  R  |     |\n",
            "---------------------------\n",
            "  U  |     |  U  |     |\n",
            "---------------------------\n",
            "  U  |  R  |  U  |  L  |\n"
          ]
        },
        {
          "output_type": "display_data",
          "data": {
            "image/png": "[encoded data removed]",
            "text/plain": [
              "<Figure size 432x288 with 1 Axes>"
            ]
          },
          "metadata": {
            "needs_background": "light"
          }
        },
        {
          "output_type": "stream",
          "name": "stdout",
          "text": [
            "final policy:\n",
            "Printing Policy\n",
            "---------------------------\n",
            "  R  |  R  |  R  |     |\n",
            "---------------------------\n",
            "  U  |     |  U  |     |\n",
            "---------------------------\n",
            "  U  |  R  |  U  |  L  |\n",
            "final values:\n",
            "Printing Values\n",
            "---------------------------\n",
            " 0.80| 0.89| 1.00| 0.00|\n",
            "---------------------------\n",
            " 0.71| 0.00| 0.89| 0.00|\n",
            "---------------------------\n",
            " 0.63| 0.66| 0.75| 0.60|\n"
          ]
        }
      ]
    }
  ]
}